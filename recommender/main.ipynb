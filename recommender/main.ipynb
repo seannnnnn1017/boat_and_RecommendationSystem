{
 "cells": [
  {
   "cell_type": "code",
   "execution_count": 1,
   "metadata": {},
   "outputs": [
    {
     "name": "stderr",
     "output_type": "stream",
     "text": [
      "c:\\Users\\op237\\miniconda3\\envs\\boat_and_RecommendationSystem\\lib\\site-packages\\tqdm\\auto.py:21: TqdmWarning: IProgress not found. Please update jupyter and ipywidgets. See https://ipywidgets.readthedocs.io/en/stable/user_install.html\n",
      "  from .autonotebook import tqdm as notebook_tqdm\n"
     ]
    }
   ],
   "source": [
    "from typing import Dict, List, Set\n",
    "from sentence_transformers import SentenceTransformer, util\n",
    "\n",
    "# 載入預訓練的多語言 SBERT 模型\n",
    "sbert_model = SentenceTransformer('paraphrase-multilingual-MiniLM-L12-v2')"
   ]
  },
  {
   "cell_type": "code",
   "execution_count": 7,
   "metadata": {},
   "outputs": [],
   "source": [
    "# 課程數據\n",
    "courses = {\n",
    "    # 核心課程\n",
    "    \"A\": {\"name\": \"基礎程式設計\", \"desc\": \"學習 Python 的基礎語法和簡單程式設計概念\", \"prereqs\": set(), \"topics\": {\"程式設計\", \"Python\"}, \"type\": \"核心\"},\n",
    "    \"B\": {\"name\": \"資料結構\", \"desc\": \"介紹基本的資料結構，如陣列、鏈結串列和樹\", \"prereqs\": {\"A\"}, \"topics\": {\"程式設計\", \"資料結構\"}, \"type\": \"核心\"},\n",
    "    \"C\": {\"name\": \"機器學習入門\", \"desc\": \"學習機器學習的基本概念和簡單模型，使用 Python 實作\", \"prereqs\": {\"A\"}, \"topics\": {\"機器學習\", \"Python\", \"AI\"}, \"type\": \"核心\"},\n",
    "    \"D\": {\"name\": \"進階程式設計\", \"desc\": \"深入探討物件導向程式設計和演算法\", \"prereqs\": {\"A\"}, \"topics\": {\"程式設計\", \"演算法\"}, \"type\": \"核心\"},\n",
    "    \"E\": {\"name\": \"人工智慧概論\", \"desc\": \"介紹 AI 的基礎理論和應用，不含實作\", \"prereqs\": set(), \"topics\": {\"AI\", \"理論\"}, \"type\": \"核心\"},\n",
    "\n",
    "    # 通識課程\n",
    "    \"GE1\": {\"name\": \"科技與社會\", \"desc\": \"探討科技對社會的影響，涵蓋 AI 和數位化趨勢\", \"prereqs\": set(), \"topics\": {\"科技\", \"社會\", \"AI\"}, \"type\": \"通識\"},\n",
    "    \"GE2\": {\"name\": \"環境科學入門\", \"desc\": \"介紹環境問題與可持續發展的基本概念\", \"prereqs\": set(), \"topics\": {\"環境\", \"科學\"}, \"type\": \"通識\"},\n",
    "    \"GE3\": {\"name\": \"世界經濟\", \"desc\": \"介紹國際世界觀，經濟脈絡\", \"prereqs\": set(), \"topics\": {\"國際\", \"經濟\"}, \"type\": \"通識\"},\n",
    "    \"GE4\": {\"name\": \"數據素養與決策\", \"desc\": \"培養數據思維，理解資料背後的意義與決策依據\", \"prereqs\": set(), \"topics\": {\"資料分析\", \"決策\", \"數據素養\"}, \"type\": \"通識\"},\n",
    "    \"GE5\": {\"name\": \"心理學概論\", \"desc\": \"認識人類行為與思維的基本心理學原理\", \"prereqs\": set(), \"topics\": {\"心理學\", \"人文\"}, \"type\": \"通識\"},\n",
    "\n",
    "    # 選修課程\n",
    "    \"EL1\": {\"name\": \"網頁開發基礎\", \"desc\": \"學習 HTML、CSS 和 JavaScript 打造簡單網頁\", \"prereqs\": {\"A\"}, \"topics\": {\"程式設計\", \"網頁開發\"}, \"type\": \"選修\"},\n",
    "    \"EL2\": {\"name\": \"深度學習概論\", \"desc\": \"介紹深度學習的基本原理和應用，使用 Python\", \"prereqs\": {\"C\"}, \"topics\": {\"機器學習\", \"AI\", \"Python\"}, \"type\": \"選修\"},\n",
    "    \"EL3\": {\"name\": \"遊戲設計入門\", \"desc\": \"學習遊戲設計基礎，包含程式設計與創意發想\", \"prereqs\": {\"A\"}, \"topics\": {\"程式設計\", \"遊戲設計\"}, \"type\": \"選修\"},\n",
    "\n",
    "    # ✅ 統計相關課程\n",
    "    \"ST1\": {\"name\": \"統計學基礎\", \"desc\": \"學習描述統計、機率分布與假設檢定的基本概念\", \"prereqs\": set(), \"topics\": {\"統計\", \"資料分析\", \"數學\"}, \"type\": \"核心\"},\n",
    "    \"ST2\": {\"name\": \"機率論\", \"desc\": \"探討隨機變數、期望值、機率分布及其應用\", \"prereqs\": {\"ST1\"}, \"topics\": {\"機率\", \"統計\", \"數學\"}, \"type\": \"選修\"},\n",
    "    \"ST3\": {\"name\": \"R 語言資料分析\", \"desc\": \"學習使用 R 語言進行資料清理與視覺化\", \"prereqs\": {\"ST1\"}, \"topics\": {\"統計\", \"資料分析\", \"R\"}, \"type\": \"選修\"},\n",
    "\n",
    "    # ✅ 管理學系課程\n",
    "    \"MG1\": {\"name\": \"管理學原理\", \"desc\": \"介紹組織管理的基本原則、領導、規劃與控制\", \"prereqs\": set(), \"topics\": {\"管理\", \"組織\"}, \"type\": \"核心\"},\n",
    "    \"MG2\": {\"name\": \"行銷學概論\", \"desc\": \"探討行銷策略、市場分析與顧客行為\", \"prereqs\": set(), \"topics\": {\"行銷\", \"管理\", \"市場\"}, \"type\": \"選修\"},\n",
    "    \"MG3\": {\"name\": \"財務管理\", \"desc\": \"學習資金運用、財務報表分析與投資決策\", \"prereqs\": {\"MG1\"}, \"topics\": {\"財務\", \"管理\", \"投資\"}, \"type\": \"選修\"}\n",
    "\n",
    "\n",
    "\n",
    "}\n",
    "\n",
    "\n",
    "# 檢查先修條件是否滿足\n",
    "def check_prereqs(course_id: str, completed: Set[str]) -> bool:\n",
    "    return courses[course_id][\"prereqs\"].issubset(completed)\n",
    "# 預先將課程描述轉換為語意向量，包含名稱 + 描述 + 主題\n",
    "course_embeddings: Dict[str, any] = {}\n",
    "for cid, info in courses.items():\n",
    "    # 將主題 topics 集合轉為字串\n",
    "    topic_text = \"、\".join(info[\"topics\"])\n",
    "    full_text = f\"{info['name']}：{info['desc']}。主題包括：{topic_text}\"\n",
    "    course_embeddings[cid] = sbert_model.encode(full_text, convert_to_tensor=True)\n"
   ]
  },
  {
   "cell_type": "code",
   "execution_count": 8,
   "metadata": {},
   "outputs": [],
   "source": [
    "# 推薦課程\n",
    "def recommend_courses(completed: Set[str], interests: str) -> List[str]:\n",
    "    # 使用者興趣文字向量化\n",
    "    user_text = f\"{interests}\"\n",
    "    interest_embedding = sbert_model.encode(user_text, convert_to_tensor=True)\n",
    "\n",
    "    # 計算與每門課的語意相似度\n",
    "    scored_courses = []\n",
    "    for cid, info in courses.items():\n",
    "        if check_prereqs(cid, completed):\n",
    "            similarity = util.pytorch_cos_sim(interest_embedding, course_embeddings[cid]).item()\n",
    "            scored_courses.append((cid, similarity, info[\"type\"]))\n",
    "\n",
    "    # 根據語意相似度與課程類型排序\n",
    "    scored_courses.sort(key=lambda x: (x[1], {\"核心\": 0, \"選修\": 1, \"通識\": 2}[x[2]]), reverse=True)\n",
    "\n",
    "    # 推薦結果（最多前 5）\n",
    "    recommendations = []\n",
    "    for cid, sim, ctype in scored_courses[:]:\n",
    "        course = courses[cid]\n",
    "        rec = f\"推薦「{course['name']}」（{ctype}）因為它與你的興趣「{interests}」語意相似度為 {sim:.2f}，且你已滿足先修條件。\"\n",
    "        recommendations.append(rec)\n",
    "\n",
    "    return recommendations"
   ]
  },
  {
   "cell_type": "code",
   "execution_count": 13,
   "metadata": {},
   "outputs": [
    {
     "name": "stdout",
     "output_type": "stream",
     "text": [
      "根據你的背景與興趣，推薦課程如下：\n",
      "推薦「財務管理」（選修）因為它與你的興趣「財務管理」語意相似度為 0.76，且你已滿足先修條件。\n",
      "推薦「管理學原理」（核心）因為它與你的興趣「財務管理」語意相似度為 0.45，且你已滿足先修條件。\n",
      "推薦「行銷學概論」（選修）因為它與你的興趣「財務管理」語意相似度為 0.36，且你已滿足先修條件。\n",
      "推薦「數據素養與決策」（通識）因為它與你的興趣「財務管理」語意相似度為 0.29，且你已滿足先修條件。\n",
      "推薦「世界經濟」（通識）因為它與你的興趣「財務管理」語意相似度為 0.27，且你已滿足先修條件。\n"
     ]
    }
   ],
   "source": [
    "# 主程式\n",
    "def main():\n",
    "    # 模擬用戶資料\n",
    "    completed_courses = {\"MG1\"}  # 已修過基礎程式設計\n",
    "    user_interests = \"財務管理\"  # 用自然語言描述興趣\n",
    "\n",
    "    # 推薦課程\n",
    "    recommendations = recommend_courses(completed_courses, user_interests)\n",
    "\n",
    "    # 顯示結果\n",
    "    print(\"根據你的背景與興趣，推薦課程如下：\")\n",
    "    if recommendations:\n",
    "        for r in recommendations[:5]:\n",
    "            print(r)\n",
    "    else:\n",
    "        print(\"目前沒有符合條件的推薦課程。\")\n",
    "\n",
    "if __name__ == \"__main__\":\n",
    "    main()"
   ]
  },
  {
   "cell_type": "code",
   "execution_count": null,
   "metadata": {},
   "outputs": [],
   "source": []
  }
 ],
 "metadata": {
  "kernelspec": {
   "display_name": "boat_and_RecommendationSystem",
   "language": "python",
   "name": "python3"
  },
  "language_info": {
   "codemirror_mode": {
    "name": "ipython",
    "version": 3
   },
   "file_extension": ".py",
   "mimetype": "text/x-python",
   "name": "python",
   "nbconvert_exporter": "python",
   "pygments_lexer": "ipython3",
   "version": "3.9.21"
  }
 },
 "nbformat": 4,
 "nbformat_minor": 2
}
